{
 "cells": [
  {
   "cell_type": "markdown",
   "metadata": {},
   "source": []
  },
  {
   "cell_type": "markdown",
   "metadata": {},
   "source": []
  },
  {
   "cell_type": "code",
   "execution_count": 77,
   "metadata": {},
   "outputs": [],
   "source": [
    "import pandas as pd\n",
    "import numpy as np \n",
    "import os \n",
    "import matplotlib.pyplot as plt"
   ]
  },
  {
   "cell_type": "code",
   "execution_count": 78,
   "metadata": {},
   "outputs": [
    {
     "name": "stdout",
     "output_type": "stream",
     "text": [
      "Current Working Directory: C:\\Users\\Administrator\\Desktop\\project programming\\project_programming_analyt-2\n"
     ]
    }
   ],
   "source": [
    "print(\"Current Working Directory:\", os.getcwd())\n"
   ]
  },
  {
   "cell_type": "code",
   "execution_count": 79,
   "metadata": {},
   "outputs": [
    {
     "name": "stdout",
     "output_type": "stream",
     "text": [
      "Files in Current Directory: ['.git', 'Cleaned_StationDetails.csv', 'project.ipynb', 'README.md', 'station.py', 'StationDetails.csv']\n"
     ]
    }
   ],
   "source": [
    "print(\"Files in Current Directory:\", os.listdir())\n"
   ]
  },
  {
   "cell_type": "code",
   "execution_count": 80,
   "metadata": {},
   "outputs": [
    {
     "name": "stdout",
     "output_type": "stream",
     "text": [
      "Changed Directory: C:\\Users\\Administrator\\Desktop\\project programming\\project_programming_analyt-2\n",
      "Files in New Directory: ['.git', 'Cleaned_StationDetails.csv', 'project.ipynb', 'README.md', 'station.py', 'StationDetails.csv']\n"
     ]
    }
   ],
   "source": [
    "os.chdir('C:/Users/Administrator/Desktop/project programming/project_programming_analyt-2')\n",
    "print(\"Changed Directory:\", os.getcwd())\n",
    "print(\"Files in New Directory:\", os.listdir())\n"
   ]
  },
  {
   "cell_type": "code",
   "execution_count": 81,
   "metadata": {},
   "outputs": [
    {
     "name": "stdout",
     "output_type": "stream",
     "text": [
      "   county  station_name                    name  height(m)  easting  northing  \\\n",
      "0  Antrim          5880         LH_RATHLIN_WEST         10   309200    451800   \n",
      "1  Carlow          4415     TULLOW (Waterworks)         76   284700    173400   \n",
      "2  Carlow          2414             BORRIS G.S.         85   272400    150700   \n",
      "3  Carlow          1214  CARLOW (SUGAR FACTORY)         58   272200    178400   \n",
      "4  Carlow           115     HACKETSTOWN RECTORY        182   297600    180500   \n",
      "\n",
      "   latitude  longitude  open_year  close_year  \n",
      "0  55.30083   -6.28028     2000.0           0  \n",
      "1  52.80528   -6.74306     1985.0           0  \n",
      "2  52.60278   -6.93056     1944.0        1991  \n",
      "3  52.85139   -6.92778     1953.0        1960  \n",
      "4  52.86667   -6.55000     1910.0        1944  \n"
     ]
    }
   ],
   "source": [
    "# Correct path to your CSV file\n",
    "df = pd.read_csv('C:/Users/Administrator/Desktop/project programming/project_programming_analyt-2/Cleaned_StationDetails.csv')\n",
    "print(df.head())"
   ]
  },
  {
   "cell_type": "code",
   "execution_count": 82,
   "metadata": {},
   "outputs": [
    {
     "name": "stdout",
     "output_type": "stream",
     "text": [
      "CSV file loaded successfully.\n",
      "   county  station_name                    name  height(m)  easting  northing  \\\n",
      "0  Antrim          5880         LH_RATHLIN_WEST         10   309200    451800   \n",
      "1  Carlow          4415     TULLOW (Waterworks)         76   284700    173400   \n",
      "2  Carlow          2414             BORRIS G.S.         85   272400    150700   \n",
      "3  Carlow          1214  CARLOW (SUGAR FACTORY)         58   272200    178400   \n",
      "4  Carlow           115     HACKETSTOWN RECTORY        182   297600    180500   \n",
      "\n",
      "   latitude  longitude  open_year  close_year  \n",
      "0  55.30083   -6.28028     2000.0           0  \n",
      "1  52.80528   -6.74306     1985.0           0  \n",
      "2  52.60278   -6.93056     1944.0        1991  \n",
      "3  52.85139   -6.92778     1953.0        1960  \n",
      "4  52.86667   -6.55000     1910.0        1944  \n"
     ]
    }
   ],
   "source": [
    "# Replace with the exact full path copied from the file explorer\n",
    "file_path = 'C:/Users/Administrator/Desktop/project programming/project_programming_analyt-2/Cleaned_StationDetails.csv'\n",
    "\n",
    "try:\n",
    "    df = pd.read_csv(file_path)\n",
    "    print(\"CSV file loaded successfully.\")\n",
    "    print(df.head())\n",
    "except FileNotFoundError:\n",
    "    print(f\"File not found at {file_path}. Please check the file path and try again.\")\n"
   ]
  },
  {
   "cell_type": "code",
   "execution_count": 83,
   "metadata": {},
   "outputs": [],
   "source": [
    "file_path = r'C:\\Users\\Administrator\\Desktop\\project programming\\project_programming_analyt-2\\Cleaned_StationDetails.csv'\n"
   ]
  },
  {
   "cell_type": "code",
   "execution_count": 84,
   "metadata": {},
   "outputs": [
    {
     "name": "stdout",
     "output_type": "stream",
     "text": [
      "Current Working Directory: C:\\Users\\Administrator\\Desktop\\project programming\\project_programming_analyt-2\n",
      "Files in Current Directory: ['.git', 'Cleaned_StationDetails.csv', 'project.ipynb', 'README.md', 'station.py', 'StationDetails.csv']\n",
      "Changed Directory: C:\\Users\\Administrator\\Desktop\\project programming\\project_programming_analyt-2\n",
      "Files in New Directory: ['.git', 'Cleaned_StationDetails.csv', 'project.ipynb', 'README.md', 'station.py', 'StationDetails.csv']\n"
     ]
    }
   ],
   "source": [
    "# Print current working directory\n",
    "print(\"Current Working Directory:\", os.getcwd())\n",
    "\n",
    "# List all files and directories in the current working directory\n",
    "print(\"Files in Current Directory:\", os.listdir())\n",
    "\n",
    "# Change directory to the desired location\n",
    "os.chdir('C:/Users/Administrator/Desktop/project programming/project_programming_analyt-2')\n",
    "\n",
    "# Confirm change of directory\n",
    "print(\"Changed Directory:\", os.getcwd())\n",
    "\n",
    "# List files in the new directory\n",
    "print(\"Files in New Directory:\", os.listdir())\n"
   ]
  },
  {
   "cell_type": "code",
   "execution_count": 85,
   "metadata": {},
   "outputs": [
    {
     "name": "stdout",
     "output_type": "stream",
     "text": [
      "File exists.\n",
      "   county  station_name                    name  height(m)  easting  northing  \\\n",
      "0  Antrim          5880         LH_RATHLIN_WEST         10   309200    451800   \n",
      "1  Carlow          4415     TULLOW (Waterworks)         76   284700    173400   \n",
      "2  Carlow          2414             BORRIS G.S.         85   272400    150700   \n",
      "3  Carlow          1214  CARLOW (SUGAR FACTORY)         58   272200    178400   \n",
      "4  Carlow           115     HACKETSTOWN RECTORY        182   297600    180500   \n",
      "\n",
      "   latitude  longitude  open_year  close_year  \n",
      "0  55.30083   -6.28028     2000.0           0  \n",
      "1  52.80528   -6.74306     1985.0           0  \n",
      "2  52.60278   -6.93056     1944.0        1991  \n",
      "3  52.85139   -6.92778     1953.0        1960  \n",
      "4  52.86667   -6.55000     1910.0        1944  \n"
     ]
    }
   ],
   "source": [
    "file_path = 'C:/Users/Administrator/Desktop/project programming/project_programming_analyt-2/Cleaned_StationDetails.csv'\n",
    "\n",
    "if os.path.exists(file_path):\n",
    "    print(\"File exists.\")\n",
    "    df = pd.read_csv(file_path)\n",
    "    print(df.head())\n",
    "else:\n",
    "    print(\"File not found at the specified path.\")\n"
   ]
  },
  {
   "cell_type": "code",
   "execution_count": 86,
   "metadata": {},
   "outputs": [
    {
     "name": "stdout",
     "output_type": "stream",
     "text": [
      "CSV file loaded successfully.\n",
      "First few rows of the DataFrame:\n",
      "   county  station_name                    name  height(m)  easting  northing  \\\n",
      "0  Antrim          5880         LH_RATHLIN_WEST         10   309200    451800   \n",
      "1  Carlow          4415     TULLOW (Waterworks)         76   284700    173400   \n",
      "2  Carlow          2414             BORRIS G.S.         85   272400    150700   \n",
      "3  Carlow          1214  CARLOW (SUGAR FACTORY)         58   272200    178400   \n",
      "4  Carlow           115     HACKETSTOWN RECTORY        182   297600    180500   \n",
      "\n",
      "   latitude  longitude  open_year  close_year  \n",
      "0  55.30083   -6.28028     2000.0           0  \n",
      "1  52.80528   -6.74306     1985.0           0  \n",
      "2  52.60278   -6.93056     1944.0        1991  \n",
      "3  52.85139   -6.92778     1953.0        1960  \n",
      "4  52.86667   -6.55000     1910.0        1944  \n",
      "Number of stations per county:\n",
      " county\n",
      "Cork         264\n",
      "Kerry        157\n",
      "Galway       151\n",
      "Donegal      143\n",
      "Mayo         135\n",
      "Tipperary    119\n",
      "Wicklow      115\n",
      "Dublin        94\n",
      "Wexford       92\n",
      "Clare         83\n",
      "Limerick      72\n",
      "Waterford     65\n",
      "Kilkenny      55\n",
      "Sligo         55\n",
      "Cavan         55\n",
      "Kildare       54\n",
      "Roscommon     50\n",
      "Meath         48\n",
      "Offaly        46\n",
      "Westmeath     42\n",
      "Leitrim       36\n",
      "Laois         34\n",
      "Louth         34\n",
      "Monaghan      30\n",
      "Carlow        28\n",
      "Longford      22\n",
      "Antrim         1\n",
      "Name: count, dtype: int64\n",
      "\n",
      "Station with the highest altitude:\n",
      " county                          Kerry\n",
      "station_name                     9905\n",
      "name            M.TORC MANGERTON NO.3\n",
      "height(m)                         808\n",
      "easting                         97500\n",
      "northing                        81200\n",
      "latitude                     51.97361\n",
      "longitude                    -9.49167\n",
      "open_year                      1942.0\n",
      "close_year                       1991\n",
      "Name: 975, dtype: object\n",
      "\n",
      "Average altitude of stations per county:\n",
      " county\n",
      "Antrim        10.000000\n",
      "Carlow        95.928571\n",
      "Cavan        101.036364\n",
      "Clare         61.578313\n",
      "Cork          89.818182\n",
      "Donegal       80.174825\n",
      "Dublin        64.606383\n",
      "Galway        55.245033\n",
      "Kerry        122.656051\n",
      "Kildare       88.000000\n",
      "Kilkenny      84.781818\n",
      "Laois        138.264706\n",
      "Leitrim       82.722222\n",
      "Limerick      77.097222\n",
      "Longford      68.136364\n",
      "Louth         49.176471\n",
      "Mayo          47.622222\n",
      "Meath         75.666667\n",
      "Monaghan      99.400000\n",
      "Offaly        69.978261\n",
      "Roscommon     67.940000\n",
      "Sligo         58.381818\n",
      "Tipperary    104.369748\n",
      "Waterford     69.123077\n",
      "Westmeath     84.500000\n",
      "Wexford       61.532609\n",
      "Wicklow      227.695652\n",
      "Name: height(m), dtype: float64\n",
      "\n",
      "Stations opened after 2000:\n",
      "        county  station_name                         name  height(m)  easting  \\\n",
      "15     Carlow           375                     OAK PARK         62   273000   \n",
      "27     Carlow          6914         GARRYHILL (MILLTOWN)        107   278600   \n",
      "43      Cavan           675                   BALLYHAISE         78   245200   \n",
      "65      Cavan          5431            VIRGINIA (MURMOD)        122   260600   \n",
      "70      Cavan          5885                 KILCOGY_WWTP         94   238030   \n",
      "...       ...           ...                          ...        ...      ...   \n",
      "2015  Wicklow          1585         ASHFORD (Cronykeery)         15   329185   \n",
      "2024  Wicklow          3924         ASHFORD (Cronykeery)         15   329185   \n",
      "2026  Wicklow          4024            KILBRIDE (Togher)         72   327687   \n",
      "2027  Wicklow          4124    DRUIDS GLEN (Golf Course)         55   328500   \n",
      "2034  Wicklow          1785  ARKLOW (Ballyrichard House)         70   326035   \n",
      "\n",
      "      northing  latitude  longitude  open_year  close_year  \n",
      "15      179500  52.86111   -6.91528     2003.0           0  \n",
      "27      158700  52.67389   -6.83750     2003.0        2005  \n",
      "43      311600  54.05139   -7.30972     2003.0           0  \n",
      "65      289100  53.84778   -7.07972     2001.0        2007  \n",
      "70      287225  53.83333   -7.42306     2019.0           0  \n",
      "...        ...       ...        ...        ...         ...  \n",
      "2015    198840  53.02500   -6.07528     2018.0           0  \n",
      "2024    198835  53.02500   -6.07528     2001.0           0  \n",
      "2026    184162  52.89361   -6.10361     2004.0           0  \n",
      "2027    206715  53.09583   -6.08250     2013.0        2014  \n",
      "2034    177510  52.83417   -6.13056     2018.0           0  \n",
      "\n",
      "[262 rows x 10 columns]\n"
     ]
    }
   ],
   "source": [
    "# Load the CSV file\n",
    "file_path = 'C:/Users/Administrator/Desktop/project programming/project_programming_analyt-2/Cleaned_StationDetails.csv'\n",
    "try:\n",
    "    df = pd.read_csv(file_path)\n",
    "    print(\"CSV file loaded successfully.\")\n",
    "except FileNotFoundError:\n",
    "    print(f\"File not found at {file_path}. Please check the file path and try again.\")\n",
    "    df = None\n",
    "\n",
    "# Proceed only if the DataFrame is loaded successfully\n",
    "if df is not None:\n",
    "    print(\"First few rows of the DataFrame:\")\n",
    "    print(df.head())\n",
    "\n",
    "    # Count the number of stations per county\n",
    "    station_counts = df['county'].value_counts()\n",
    "    print(\"Number of stations per county:\\n\", station_counts)\n",
    "\n",
    "    # Find the station with the highest altitude\n",
    "    highest_altitude_station = df.loc[df['height(m)'].idxmax()]\n",
    "    print(\"\\nStation with the highest altitude:\\n\", highest_altitude_station)\n",
    "\n",
    "    # Calculate the average altitude of stations per county\n",
    "    avg_altitude_per_county = df.groupby('county')['height(m)'].mean()\n",
    "    print(\"\\nAverage altitude of stations per county:\\n\", avg_altitude_per_county)\n",
    "\n",
    "    # Find stations that were opened after 2000\n",
    "    stations_opened_after_2000 = df[df['open_year'] > 2000]\n",
    "    print(\"\\nStations opened after 2000:\\n\", stations_opened_after_2000)\n"
   ]
  },
  {
   "cell_type": "code",
   "execution_count": 87,
   "metadata": {},
   "outputs": [
    {
     "name": "stdout",
     "output_type": "stream",
     "text": [
      "CSV file loaded successfully.\n",
      "   county  station_name                    name  height(m)  easting  northing  \\\n",
      "0  Antrim          5880         LH_RATHLIN_WEST         10   309200    451800   \n",
      "1  Carlow          4415     TULLOW (Waterworks)         76   284700    173400   \n",
      "2  Carlow          2414             BORRIS G.S.         85   272400    150700   \n",
      "3  Carlow          1214  CARLOW (SUGAR FACTORY)         58   272200    178400   \n",
      "4  Carlow           115     HACKETSTOWN RECTORY        182   297600    180500   \n",
      "\n",
      "   latitude  longitude  open_year  close_year  \n",
      "0  55.30083   -6.28028     2000.0           0  \n",
      "1  52.80528   -6.74306     1985.0           0  \n",
      "2  52.60278   -6.93056     1944.0        1991  \n",
      "3  52.85139   -6.92778     1953.0        1960  \n",
      "4  52.86667   -6.55000     1910.0        1944  \n"
     ]
    }
   ],
   "source": [
    "# Use the correct path to load the CSV file\n",
    "file_path = 'C:/Users/Administrator/Desktop/project programming/project_programming_analyt-2/Cleaned_StationDetails.csv'\n",
    "\n",
    "try:\n",
    "    df = pd.read_csv(file_path)\n",
    "    print(\"CSV file loaded successfully.\")\n",
    "    print(df.head())\n",
    "except FileNotFoundError:\n",
    "    print(f\"File not found at {file_path}. Please check the file path and try again.\")\n"
   ]
  },
  {
   "cell_type": "code",
   "execution_count": 88,
   "metadata": {},
   "outputs": [
    {
     "name": "stdout",
     "output_type": "stream",
     "text": [
      "Basic statistics of the DataFrame:\n",
      "       station_name    height(m)        easting       northing     latitude  \\\n",
      "count   2080.000000  2080.000000    2080.000000    2080.000000  2080.000000   \n",
      "mean    3354.113942    88.080288  196322.346635  204490.070673    53.086816   \n",
      "std     2890.322201    92.297852   77071.221714   97627.013312     0.877909   \n",
      "min      101.000000     0.000000   35400.000000   16400.000000    51.389440   \n",
      "25%     1226.750000    32.000000  130650.000000  122601.250000    52.352150   \n",
      "50%     2505.500000    64.000000  192347.500000  202005.000000    53.065835   \n",
      "75%     4907.250000   105.000000  261025.000000  273540.000000    53.708405   \n",
      "max    19923.000000   808.000000  338200.000000  458600.000000    55.372220   \n",
      "\n",
      "         longitude    open_year   close_year  \n",
      "count  2080.000000  2079.000000  2080.000000  \n",
      "mean     -8.050338  1962.957672  1477.299038  \n",
      "std       1.146600    31.534010   864.280775  \n",
      "min     -10.405560  1829.000000     0.000000  \n",
      "25%      -9.033125  1944.000000     0.000000  \n",
      "50%      -8.117080  1956.000000  1972.000000  \n",
      "75%      -7.085138  1986.000000  1993.000000  \n",
      "max      -5.925830  2022.000000  2021.000000  \n",
      "\n",
      "Information about the DataFrame:\n",
      "<class 'pandas.core.frame.DataFrame'>\n",
      "RangeIndex: 2080 entries, 0 to 2079\n",
      "Data columns (total 10 columns):\n",
      " #   Column        Non-Null Count  Dtype  \n",
      "---  ------        --------------  -----  \n",
      " 0   county        2080 non-null   object \n",
      " 1   station_name  2080 non-null   int64  \n",
      " 2   name          2080 non-null   object \n",
      " 3   height(m)     2080 non-null   int64  \n",
      " 4   easting       2080 non-null   int64  \n",
      " 5   northing      2080 non-null   int64  \n",
      " 6   latitude      2080 non-null   float64\n",
      " 7   longitude     2080 non-null   float64\n",
      " 8   open_year     2079 non-null   float64\n",
      " 9   close_year    2080 non-null   int64  \n",
      "dtypes: float64(3), int64(5), object(2)\n",
      "memory usage: 162.6+ KB\n",
      "None\n"
     ]
    }
   ],
   "source": [
    "# Display basic statistics\n",
    "print(\"Basic statistics of the DataFrame:\")\n",
    "print(df.describe())\n",
    "\n",
    "# Display information about the DataFrame\n",
    "print(\"\\nInformation about the DataFrame:\")\n",
    "print(df.info())\n"
   ]
  },
  {
   "cell_type": "markdown",
   "metadata": {},
   "source": [
    "You have 2080 entries with several important columns, including county, station_name, height(m), easting, northing, latitude, longitude, open_year, and close_year.\n",
    "\n",
    "Key Observations:\n",
    "Basic Statistics:\n",
    "\n",
    "The mean height of stations is approximately 88 meters.\n",
    "\n",
    "The highest station is at 808 meters.\n",
    "\n",
    "open_year ranges from 1829 to 2022, with a mean around 1963.\n",
    "\n",
    "close_year varies widely, with many entries having a 0 indicating they might still be operational or data is missing.\n",
    "\n",
    "Data Information:\n",
    "\n",
    "Most columns are fully populated, except for open_year which has one missing value."
   ]
  },
  {
   "cell_type": "markdown",
   "metadata": {},
   "source": [
    "Assuming your CSV file contains wind speed data (in meters per second) for various locations, you can use the following formula to calculate wind power density:\n",
    "\n",
    "Wind Power Density\n",
    "=\n",
    "1\n",
    "2\n",
    "×\n",
    "𝜌\n",
    "×\n",
    "𝑣\n",
    "3\n",
    "where:\n",
    "\n",
    "𝜌\n",
    " is the air density (approximately 1.225 kg/m³ at sea level),\n",
    "\n",
    "𝑣\n",
    " is the wind speed (in meters per second)."
   ]
  },
  {
   "cell_type": "code",
   "execution_count": 89,
   "metadata": {},
   "outputs": [
    {
     "name": "stdout",
     "output_type": "stream",
     "text": [
      "C:\\Users\\Administrator\\Desktop\\project programming\\project_programming_analyt-2\n"
     ]
    }
   ],
   "source": [
    "import os\n",
    "print(os.getcwd())\n"
   ]
  },
  {
   "cell_type": "code",
   "execution_count": 90,
   "metadata": {},
   "outputs": [
    {
     "name": "stdout",
     "output_type": "stream",
     "text": [
      "['.git', 'Cleaned_StationDetails.csv', 'project.ipynb', 'README.md', 'station.py', 'StationDetails.csv']\n"
     ]
    }
   ],
   "source": [
    "print(os.listdir(os.getcwd()))\n"
   ]
  },
  {
   "cell_type": "code",
   "execution_count": 91,
   "metadata": {},
   "outputs": [],
   "source": [
    "df = pd.read_csv('C:/Users/Administrator/Desktop/project programming/project_programming_analyt-2/Cleaned_StationDetails.csv')\n"
   ]
  },
  {
   "cell_type": "code",
   "execution_count": 92,
   "metadata": {},
   "outputs": [
    {
     "name": "stdout",
     "output_type": "stream",
     "text": [
      "   county  station_name                    name  height(m)  easting  northing  \\\n",
      "0  Antrim          5880         LH_RATHLIN_WEST         10   309200    451800   \n",
      "1  Carlow          4415     TULLOW (Waterworks)         76   284700    173400   \n",
      "2  Carlow          2414             BORRIS G.S.         85   272400    150700   \n",
      "3  Carlow          1214  CARLOW (SUGAR FACTORY)         58   272200    178400   \n",
      "4  Carlow           115     HACKETSTOWN RECTORY        182   297600    180500   \n",
      "\n",
      "   latitude  longitude  open_year  close_year  \n",
      "0  55.30083   -6.28028     2000.0           0  \n",
      "1  52.80528   -6.74306     1985.0           0  \n",
      "2  52.60278   -6.93056     1944.0        1991  \n",
      "3  52.85139   -6.92778     1953.0        1960  \n",
      "4  52.86667   -6.55000     1910.0        1944  \n"
     ]
    }
   ],
   "source": [
    "# Example of using absolute path\n",
    "df = pd.read_csv('C:/Users/Administrator/Desktop/project programming/project_programming_analyt-2/Cleaned_StationDetails.csv')\n",
    "print(df.head())\n"
   ]
  },
  {
   "cell_type": "code",
   "execution_count": 95,
   "metadata": {},
   "outputs": [
    {
     "name": "stdout",
     "output_type": "stream",
     "text": [
      "   WindSpeed\n",
      "0   7.026442\n",
      "1   5.340310\n",
      "2   3.452381\n",
      "3   4.007870\n",
      "4   3.988395\n"
     ]
    }
   ],
   "source": [
    "import numpy as np\n",
    "\n",
    "# Assuming you want to add some sample wind speed data\n",
    "# Generate random wind speed data for demonstration purposes (e.g., values between 3 and 10 m/s)\n",
    "df['WindSpeed'] = np.random.uniform(3, 10, size=len(df))\n",
    "\n",
    "# Display the first few rows of the DataFrame including the new WindSpeed column\n",
    "print(df[['WindSpeed']].head())\n"
   ]
  },
  {
   "cell_type": "code",
   "execution_count": 96,
   "metadata": {},
   "outputs": [
    {
     "name": "stdout",
     "output_type": "stream",
     "text": [
      "   county  station_name                    name  height(m)  easting  northing  \\\n",
      "0  Antrim          5880         LH_RATHLIN_WEST         10   309200    451800   \n",
      "1  Carlow          4415     TULLOW (Waterworks)         76   284700    173400   \n",
      "2  Carlow          2414             BORRIS G.S.         85   272400    150700   \n",
      "3  Carlow          1214  CARLOW (SUGAR FACTORY)         58   272200    178400   \n",
      "4  Carlow           115     HACKETSTOWN RECTORY        182   297600    180500   \n",
      "\n",
      "   latitude  longitude  open_year  close_year  WindSpeed  WindPowerDensity  \n",
      "0  55.30083   -6.28028     2000.0           0   6.390205        159.827092  \n",
      "1  52.80528   -6.74306     1985.0           0   7.724690        282.324984  \n",
      "2  52.60278   -6.93056     1944.0        1991   6.199318        145.927754  \n",
      "3  52.85139   -6.92778     1953.0        1960   8.723498        406.610043  \n",
      "4  52.86667   -6.55000     1910.0        1944   6.851483        196.997147  \n"
     ]
    }
   ],
   "source": [
    "# Generate random wind speed data for demonstration purposes\n",
    "# Replace this with your actual wind speed data\n",
    "df['WindSpeed'] = np.random.uniform(3, 10, size=len(df))  # Wind speeds between 3 and 10 m/s\n",
    "\n",
    "# Define a function to calculate wind power density\n",
    "def wind_power_density(wind_speed):\n",
    "    air_density = 1.225  # kg/m³ at sea level\n",
    "    return 0.5 * air_density * np.power(wind_speed, 3)\n",
    "\n",
    "# Apply the function to the wind speed column\n",
    "df['WindPowerDensity'] = df['WindSpeed'].apply(wind_power_density)\n",
    "\n",
    "# Display the dataframe with the new WindPowerDensity column\n",
    "print(df.head())"
   ]
  },
  {
   "cell_type": "markdown",
   "metadata": {},
   "source": [
    "this is a quite open ended, is this just meant weand speed for a hour/day/month/year, our should i take into an account that there are wind ranges that the windfarms can operant in\n",
    "You're absolutely right. To get a comprehensive understanding of wind power potential for wind farms, several factors need to be considered beyond just a snapshot of wind speed data. Here are a few key points to take into account:\n",
    "\n",
    "Timeframe:\n",
    "\n",
    "Hourly: This can help understand short-term variations, useful for real-time power generation.\n",
    "\n",
    "Daily/Monthly/Yearly: Aggregating wind speeds over longer periods helps to identify trends and seasonal variations which are crucial for long-term planning and energy yield estimation.\n",
    "\n",
    "Operational Wind Speed Range:\n",
    "\n",
    "Cut-in Wind Speed: The minimum wind speed at which a wind turbine starts generating power (typically around 3-4 m/s).\n",
    "\n",
    "Rated Wind Speed: The wind speed at which the turbine generates its maximum power.\n",
    "\n",
    "Cut-out Wind Speed: The maximum wind speed at which the turbine is designed to safely operate before shutting down to prevent damage (typically around 25 m/s).\n",
    "\n",
    "Capacity Factor:\n",
    "\n",
    "This is the actual output of a wind turbine compared to its maximum possible output, which accounts for wind speed variations and turbine efficiency.\n",
    "\n",
    "Wind Speed Distribution:\n",
    "\n",
    "Analyze the wind speed frequency distribution (often using a Weibull distribution) to understand how often different wind speeds occur at your site.\n",
    "\n",
    "Site-Specific Factors:\n",
    "\n",
    "Topography, surface roughness, and obstacles (like buildings and trees) can influence wind patterns and should be considered.\n",
    "\n",
    "Here's an extended approach to analyze wind power potential:"
   ]
  },
  {
   "cell_type": "code",
   "execution_count": 97,
   "metadata": {},
   "outputs": [
    {
     "name": "stdout",
     "output_type": "stream",
     "text": [
      "   county  station_name                    name  height(m)  easting  northing  \\\n",
      "0  Antrim          5880         LH_RATHLIN_WEST         10   309200    451800   \n",
      "1  Carlow          4415     TULLOW (Waterworks)         76   284700    173400   \n",
      "2  Carlow          2414             BORRIS G.S.         85   272400    150700   \n",
      "3  Carlow          1214  CARLOW (SUGAR FACTORY)         58   272200    178400   \n",
      "4  Carlow           115     HACKETSTOWN RECTORY        182   297600    180500   \n",
      "\n",
      "   latitude  longitude  open_year  close_year  WindSpeed  WindPowerDensity  \\\n",
      "0  55.30083   -6.28028     2000.0           0   8.750479        410.394602   \n",
      "1  52.80528   -6.74306     1985.0           0   7.577532        266.495242   \n",
      "2  52.60278   -6.93056     1944.0        1991   3.874064         35.612841   \n",
      "3  52.85139   -6.92778     1953.0        1960   6.218928        147.316909   \n",
      "4  52.86667   -6.55000     1910.0        1944   7.813097        292.129683   \n",
      "\n",
      "        Date  \n",
      "0 2024-01-01  \n",
      "1 2024-01-02  \n",
      "2 2024-01-03  \n",
      "3 2024-01-04  \n",
      "4 2024-01-05  \n",
      "Daily average wind speed:\n",
      "Date\n",
      "2024-01-01    8.750479\n",
      "2024-01-02    7.577532\n",
      "2024-01-03    3.874064\n",
      "2024-01-04    6.218928\n",
      "2024-01-05    7.813097\n",
      "Freq: D, Name: WindSpeed, dtype: float64\n"
     ]
    }
   ],
   "source": [
    "# Simulate timestamp data for demonstration (e.g., daily data for a year)\n",
    "df['Date'] = pd.date_range(start='2024-01-01', periods=len(df), freq='D')\n",
    "\n",
    "# Ensure the DataFrame has a 'WindSpeed' column (use actual data if available)\n",
    "df['WindSpeed'] = np.random.uniform(3, 10, size=len(df))  # Example data\n",
    "\n",
    "# Calculate daily average wind speed\n",
    "daily_wind = df.resample('D', on='Date')['WindSpeed'].mean()\n",
    "\n",
    "# Calculate wind power density\n",
    "def wind_power_density(wind_speed):\n",
    "    air_density = 1.225  # kg/m³ at sea level\n",
    "    return 0.5 * air_density * np.power(wind_speed, 3)\n",
    "\n",
    "df['WindPowerDensity'] = df['WindSpeed'].apply(wind_power_density)\n",
    "\n",
    "# Display results\n",
    "print(df.head())\n",
    "print(\"Daily average wind speed:\")\n",
    "print(daily_wind.head())\n"
   ]
  },
  {
   "cell_type": "markdown",
   "metadata": {},
   "source": [
    "successfully aggregated the wind speed data and calculated the daily average wind speeds. To determine the wind power potential for wind farms, it’s essential to consider operational ranges and other factors as you mentioned.\n",
    "\n",
    "Here’s a more comprehensive approach:\n",
    "\n",
    "1. Consider Wind Farm Operational Ranges\n",
    "Wind turbines have specific wind speed ranges they operate within:\n",
    "\n",
    "Cut-in Wind Speed: The minimum wind speed at which the turbine starts generating power.\n",
    "\n",
    "Rated Wind Speed: The wind speed at which the turbine generates its maximum power.\n",
    "\n",
    "Cut-out Wind Speed: The maximum wind speed at which the turbine can operate before it shuts down to avoid damage.\n",
    "\n",
    "2. Aggregate Data Over Different Timeframes\n",
    "You can aggregate the wind speed data over different timeframes to get a more detailed analysis:\n",
    "\n",
    "Hourly: For short-term variations.\n",
    "\n",
    "Daily/Monthly: For identifying trends and seasonal variations.\n",
    "\n",
    "3. Filter Wind Speeds Within Operational Ranges\n",
    "Filter out the wind speeds that fall within the operational ranges of the wind turbines:"
   ]
  },
  {
   "cell_type": "code",
   "execution_count": 98,
   "metadata": {},
   "outputs": [],
   "source": [
    "# Define operational wind speed range\n",
    "cut_in_speed = 3.5  # m/s\n",
    "cut_out_speed = 25.0  # m/s\n",
    "\n",
    "# Filter wind speeds within the operational range\n",
    "df_operational = df[(df['WindSpeed'] >= cut_in_speed) & (df['WindSpeed'] <= cut_out_speed)]\n"
   ]
  },
  {
   "cell_type": "code",
   "execution_count": 99,
   "metadata": {},
   "outputs": [
    {
     "name": "stdout",
     "output_type": "stream",
     "text": [
      "Capacity Factor: 99.27%\n"
     ]
    }
   ],
   "source": [
    "# Calculate capacity factor\n",
    "capacity_factor = (df_operational['WindPowerDensity'].sum() / df['WindPowerDensity'].sum()) * 100\n",
    "print(f'Capacity Factor: {capacity_factor:.2f}%')\n"
   ]
  },
  {
   "cell_type": "markdown",
   "metadata": {},
   "source": [
    "Wind Speed Distribution Analysis\n",
    "Analyze the frequency distribution of wind speeds to understand how often different wind speeds occur. This can be done using histograms or fitting a Weibull distribution.\n",
    "\n",
    "6. Plotting Results\n",
    "Visualize the wind speed data and wind power density over time to gain insights:"
   ]
  },
  {
   "cell_type": "code",
   "execution_count": 100,
   "metadata": {},
   "outputs": [
    {
     "data": {
      "image/png": "[encoded data removed]",
      "text/plain": [
       "<Figure size 640x480 with 1 Axes>"
      ]
     },
     "metadata": {},
     "output_type": "display_data"
    },
    {
     "data": {
      "image/png": "[encoded data removed]",
      "text/plain": [
       "<Figure size 640x480 with 1 Axes>"
      ]
     },
     "metadata": {},
     "output_type": "display_data"
    }
   ],
   "source": [
    "\n",
    "\n",
    "# Plot daily average wind speed\n",
    "daily_wind.plot(title=\"Daily Average Wind Speed\", xlabel=\"Date\", ylabel=\"Wind Speed (m/s)\")\n",
    "plt.show()\n",
    "\n",
    "# Plot wind power density\n",
    "df.set_index('Date')['WindPowerDensity'].plot(title=\"Wind Power Density Over Time\", xlabel=\"Date\", ylabel=\"Wind Power Density (W/m²)\")\n",
    "plt.show()\n"
   ]
  }
 ],
 "metadata": {
  "language_info": {
   "name": "python"
  }
 },
 "nbformat": 4,
 "nbformat_minor": 2
}
